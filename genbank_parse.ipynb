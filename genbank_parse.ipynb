{
 "cells": [
  {
   "cell_type": "code",
   "execution_count": 13,
   "id": "edc7af34",
   "metadata": {},
   "outputs": [],
   "source": [
    "from Bio import SeqIO, Entrez \n",
    "import pandas as pd\n",
    "import sys \n",
    "\n",
    "\n",
    "def parse(files):\n",
    "    \n",
    "    data = []\n",
    "    \n",
    "    for file in files:\n",
    "        with open(file,\"r\") as handle:\n",
    "            for record in SeqIO.parse(handle, \"genbank\"):\n",
    "                accession = record.id\n",
    "                features_count = len(record.features)\n",
    "                source = record.annotations.get('source', '')\n",
    "                taxonomy = record.annotations.get('taxonomy', [])\n",
    "\n",
    "                family = taxonomy[-3]\n",
    "                genus = taxonomy[-2]\n",
    "                species = taxonomy[-1]\n",
    "\n",
    "                data.append([accession, family, genus, species, features_count, source])\n",
    "    return data "
   ]
  },
  {
   "cell_type": "code",
   "execution_count": 14,
   "id": "cf1341a5",
   "metadata": {},
   "outputs": [
    {
     "name": "stdout",
     "output_type": "stream",
     "text": [
      "NZ_BHVZ01000001.1.gb NZ_CAJTFZ010000019.1.gb NZ_CALPCP010000001.1.gb NZ_CALPCY010000130.1.gb NZ_SRYA01000017.1.gb\n"
     ]
    }
   ],
   "source": [
    "def main():\n",
    "    gb_files_input = input().strip().split()\n",
    "\n",
    "    data = parse(gb_files_input)\n",
    "    \n",
    "    df = pd.DataFrame(data, columns=['Accession', 'Family', 'Genus', 'Species', 'Num_Features', 'Source'])\n",
    "    \n",
    "    df.to_csv('genbank_parse.csv', index=False)\n",
    "    \n",
    "if __name__ == \"__main__\":\n",
    "    main()"
   ]
  },
  {
   "cell_type": "code",
   "execution_count": null,
   "id": "cb594578",
   "metadata": {},
   "outputs": [],
   "source": []
  }
 ],
 "metadata": {
  "kernelspec": {
   "display_name": "Python 3 (ipykernel)",
   "language": "python",
   "name": "python3"
  },
  "language_info": {
   "codemirror_mode": {
    "name": "ipython",
    "version": 3
   },
   "file_extension": ".py",
   "mimetype": "text/x-python",
   "name": "python",
   "nbconvert_exporter": "python",
   "pygments_lexer": "ipython3",
   "version": "3.9.5"
  }
 },
 "nbformat": 4,
 "nbformat_minor": 5
}
