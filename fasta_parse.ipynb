{
 "cells": [
  {
   "cell_type": "code",
   "execution_count": 11,
   "id": "308aa1a8",
   "metadata": {},
   "outputs": [],
   "source": [
    "from Bio import SeqIO, Entrez \n",
    "import pandas as pd\n",
    "import sys \n",
    "\n",
    "\n",
    "def parse(files):\n",
    "    data = []\n",
    "    \n",
    "    for file in files:\n",
    "        with open(file,\"r\") as handle:\n",
    "            for record in SeqIO.parse(handle, \"fasta\"):\n",
    "                fasta_id = record.id\n",
    "                sequence = str(record.seq)\n",
    "                first_10_aa = sequence[:10]\n",
    "                length = len(sequence)\n",
    "                num_c = sequence.count(\"C\")\n",
    "\n",
    "                data.append([fasta_id, first_10_aa, length, num_c])\n",
    "    return data"
   ]
  },
  {
   "cell_type": "code",
   "execution_count": 13,
   "id": "ab8dfd9e",
   "metadata": {},
   "outputs": [
    {
     "name": "stdout",
     "output_type": "stream",
     "text": [
      "AGI40145.1.fasta AGJ87295.1.fasta WVV45440.1.fasta WVS05366.1.fasta\n"
     ]
    }
   ],
   "source": [
    "def main():\n",
    "    \n",
    "    fasta_file_input = input().strip().split()\n",
    "    data = parse(fasta_file_input)\n",
    "    \n",
    "    df = pd.DataFrame(data, columns=['ID', 'First_10_AA', 'Length', 'Number_C'])\n",
    "    df.to_csv('protein_info.csv', index=False)\n",
    "    \n",
    "if __name__ == \"__main__\":\n",
    "    main()                                 \n",
    "                                    "
   ]
  },
  {
   "cell_type": "code",
   "execution_count": null,
   "id": "8a976945",
   "metadata": {},
   "outputs": [],
   "source": []
  },
  {
   "cell_type": "code",
   "execution_count": null,
   "id": "4318763a",
   "metadata": {},
   "outputs": [],
   "source": []
  }
 ],
 "metadata": {
  "kernelspec": {
   "display_name": "Python 3 (ipykernel)",
   "language": "python",
   "name": "python3"
  },
  "language_info": {
   "codemirror_mode": {
    "name": "ipython",
    "version": 3
   },
   "file_extension": ".py",
   "mimetype": "text/x-python",
   "name": "python",
   "nbconvert_exporter": "python",
   "pygments_lexer": "ipython3",
   "version": "3.9.5"
  }
 },
 "nbformat": 4,
 "nbformat_minor": 5
}
