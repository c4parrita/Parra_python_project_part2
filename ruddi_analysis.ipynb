{
 "cells": [
  {
   "cell_type": "code",
   "execution_count": 10,
   "id": "a13d5296",
   "metadata": {},
   "outputs": [],
   "source": [
    "from Bio import SeqIO\n",
    "from Bio.Seq import Seq\n",
    "import pandas as pd\n",
    "import sys \n",
    "\n",
    "def parse(fasta_file):\n",
    "    records = SeqIO.parse(fasta_file, \"fasta\")\n",
    "\n",
    "    for record in records:\n",
    "        sequence = record.seq\n",
    "        genome_length = len(sequence)\n",
    "        gc_content = (sequence.count(\"G\") + sequence.count(\"C\")) / genome_length * 100\n",
    "        forward_strand_count = sequence.count(\"ATG\")\n",
    "        reverse_complement_count = Seq(str(sequence)).reverse_complement().count(\"ATG\")\n",
    "        return genome_length, gc_content, forward_strand_count, reverse_complement_count"
   ]
  },
  {
   "cell_type": "code",
   "execution_count": 16,
   "id": "da8951ff",
   "metadata": {},
   "outputs": [],
   "source": [
    "def main():\n",
    "    \n",
    "    fasta_file = \"GCA_000287275.1.fasta\"\n",
    "    genome_length, gc_content, forward_strand_count, reverse_complement_count = parse(fasta_file)\n",
    "    \n",
    "    data = [[genome_length, gc_content, forward_strand_count, reverse_complement_count]]\n",
    "    df = pd.DataFrame(data, columns=['Length_of_genome', 'GC_Content', 'ATG_forward', 'ATG_reverse'])\n",
    "\n",
    "    df.to_csv('ruddi.csv', index=False)\n",
    "    \n",
    "if __name__ == \"__main__\":\n",
    "    main()"
   ]
  },
  {
   "cell_type": "code",
   "execution_count": null,
   "id": "fa4641e9",
   "metadata": {},
   "outputs": [],
   "source": []
  }
 ],
 "metadata": {
  "kernelspec": {
   "display_name": "Python 3 (ipykernel)",
   "language": "python",
   "name": "python3"
  },
  "language_info": {
   "codemirror_mode": {
    "name": "ipython",
    "version": 3
   },
   "file_extension": ".py",
   "mimetype": "text/x-python",
   "name": "python",
   "nbconvert_exporter": "python",
   "pygments_lexer": "ipython3",
   "version": "3.9.5"
  }
 },
 "nbformat": 4,
 "nbformat_minor": 5
}
